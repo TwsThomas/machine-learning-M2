{
 "cells": [
  {
   "cell_type": "code",
   "execution_count": null,
   "metadata": {
    "collapsed": true
   },
   "outputs": [],
   "source": [
    "# d'après le challenge Kaggle : https://www.kaggle.com/c/titanic"
   ]
  },
  {
   "cell_type": "code",
   "execution_count": null,
   "metadata": {
    "collapsed": true
   },
   "outputs": [],
   "source": []
  },
  {
   "cell_type": "markdown",
   "metadata": {},
   "source": [
    "# TP Decision Tree : entropie"
   ]
  },
  {
   "cell_type": "code",
   "execution_count": null,
   "metadata": {
    "collapsed": false
   },
   "outputs": [],
   "source": [
    "import numpy as np # import la librairie numpy (calcul scientifique)\n",
    "import matplotlib.pyplot as plt # librairie pour afficher les graphs.\n",
    "%matplotlib inline  \n",
    "import pandas as pd #for manipulating data "
   ]
  },
  {
   "cell_type": "code",
   "execution_count": null,
   "metadata": {
    "collapsed": true
   },
   "outputs": [],
   "source": [
    "# Charge les donnees utile pour le TP\n",
    "def get_titanic_data():\n",
    "    \n",
    "    \n",
    "    np.random.seed(42)\n",
    "    # get titanic & test csv files as a DataFrame\n",
    "    titanic_df = pd.read_csv(\"train_titanic.csv\", dtype={\"Age\": np.float64}, )\n",
    "\n",
    "    # drop unnecessary columns, these columns won't be useful in analysis and prediction\n",
    "    titanic_df = titanic_df.drop(['PassengerId','Name','Ticket',  'SibSp',  'Parch' ,    'Fare','Cabin'], axis=1)\n",
    "\n",
    "\n",
    "    # only in titanic_df, fill the two missing values with the most occurred value, which is \"S\".\n",
    "    titanic_df[\"Embarked\"] = titanic_df[\"Embarked\"].fillna(\"S\")\n",
    "\n",
    "\n",
    "    #AGE\n",
    "    # get average, std, and number of NaN values in titanic_df\n",
    "    average_age_titanic   = titanic_df[\"Age\"].mean()\n",
    "    std_age_titanic       = titanic_df[\"Age\"].std()\n",
    "    count_nan_age_titanic = titanic_df[\"Age\"].isnull().sum()\n",
    "    # generate random numbers between (mean - std) & (mean + std)\n",
    "    rand_1 = np.random.randint(average_age_titanic - std_age_titanic, average_age_titanic + std_age_titanic, size = count_nan_age_titanic)\n",
    "    titanic_df['Age'].dropna().astype(int)\n",
    "    # fill NaN values in Age column with random values generated\n",
    "    #titanic_df[\"Age\"][np.isnan(titanic_df[\"Age\"])] = rand_1    \n",
    "    titanic_df[\"Age\"] = titanic_df[\"Age\"].fillna(30)\n",
    "    # convert from float to int\n",
    "    titanic_df['Age'] = titanic_df['Age'].astype(int)\n",
    "    \n",
    "    y = titanic_df['Survived']\n",
    "    X = titanic_df.drop( [\"Survived\"], axis = 1)\n",
    "    print(\"X data :\\n \")\n",
    "    print(X.head())\n",
    "    print(\"\\n\\n y label : \\n\")\n",
    "    print(y.head())\n",
    "    \n",
    "    return X,y"
   ]
  },
  {
   "cell_type": "code",
   "execution_count": null,
   "metadata": {
    "collapsed": false
   },
   "outputs": [],
   "source": [
    "X, y = get_titanic_data()\n",
    "X_array, y_array = np.array(X), np.array(y)"
   ]
  },
  {
   "cell_type": "markdown",
   "metadata": {},
   "source": [
    "## Exercices : \n",
    "\n",
    "1. Exploration :\n",
    "\n",
    "\n",
    "    - Afficher, en fonction du genre, la proportion de personnes ayant survécu. (i.e. proba(Survivre | genre = femme) et proba(Survivre | genre = homme)). \n",
    "    - De même avec la classe (la 1er classe étant la plus chère) et le port de départ ##(Ici, 1 = Cherbourg; 2 = Queenstown; 3 = Southampton).\n",
    "    - Quel est le facteur qui semble, a priori, le plus informatif ?\n",
    "\n",
    "2. Analyse :\n",
    "\n",
    "    - Coder la fonction d'entropie. Puis la visualiser sur [0,1].        \n",
    "    - Calculer la quantité d'information $I$ donnée par le genre.\n",
    "    - De même pour la classee et le port d'embarquation.\n",
    "    - Quel est le facteur qui apporte ffectivement le plus d'information ?\n",
    "\n",
    "3. Model et prediction\n",
    "\n",
    "    - Entrainer un arbre de decision sur ces données,\n",
    "    - l'attribut 'feature_importances_' de tree.DecisionTreeClassifier() doone t'il les même résultats ?"
   ]
  },
  {
   "cell_type": "markdown",
   "metadata": {},
   "source": [
    "### proba de survivre en fonction du genre"
   ]
  },
  {
   "cell_type": "code",
   "execution_count": null,
   "metadata": {
    "collapsed": true
   },
   "outputs": [],
   "source": []
  },
  {
   "cell_type": "code",
   "execution_count": null,
   "metadata": {
    "collapsed": true
   },
   "outputs": [],
   "source": []
  },
  {
   "cell_type": "code",
   "execution_count": null,
   "metadata": {
    "collapsed": false
   },
   "outputs": [],
   "source": [
    "\n",
    "print('Femmes ayant survecut:', 'xx',\\\n",
    "      '%.\\n Hommes ayant survecut : ', 'xx','%')"
   ]
  },
  {
   "cell_type": "markdown",
   "metadata": {},
   "source": [
    "## Fonction du port et de la classe du billet "
   ]
  },
  {
   "cell_type": "code",
   "execution_count": null,
   "metadata": {
    "collapsed": true
   },
   "outputs": [],
   "source": []
  },
  {
   "cell_type": "code",
   "execution_count": null,
   "metadata": {
    "collapsed": true
   },
   "outputs": [],
   "source": []
  },
  {
   "cell_type": "markdown",
   "metadata": {
    "collapsed": true
   },
   "source": [
    "## Entropy "
   ]
  },
  {
   "cell_type": "code",
   "execution_count": null,
   "metadata": {
    "collapsed": false
   },
   "outputs": [],
   "source": [
    "print(\"I = -p * log(p) - (1-p) * log(1- p) \\n \\\n",
    "avec p = Proba(survivre | genre = femme) \\n\\\n",
    "(Rappel : un faible I est plus informatif qu'un I élevé.)\")\n",
    "\n",
    "def entropy(p):\n",
    "    #todo\n",
    "list_p = np.arange(0.01,.99,0.05)\n",
    "plt.plot(list_p, [entropy(p) for p in list_p])\n",
    "\n",
    "plt.title('fonction entropy')\n",
    "plt.xlabel('p')\n",
    "plt.ylabel('incertitude')"
   ]
  },
  {
   "cell_type": "markdown",
   "metadata": {},
   "source": [
    "## Information I"
   ]
  },
  {
   "cell_type": "code",
   "execution_count": null,
   "metadata": {
    "collapsed": false
   },
   "outputs": [],
   "source": []
  },
  {
   "cell_type": "code",
   "execution_count": null,
   "metadata": {
    "collapsed": false
   },
   "outputs": [],
   "source": [
    "\n",
    "\n",
    "# Quantité d'information donnée par le genre.\n",
    "\n",
    "print(\"I_genre = proba(femme) * I(genre=femme) + proba(homme) * I(genre=homme)\")\n",
    "\n",
    "\n",
    "\n",
    "print('Information donnée par le genre : I_genre =', I_genre)\n",
    "\n",
    "\n",
    "# Quantité d'information donnée par la classe du billet.\n",
    "\n",
    "\n",
    "print('Information donnée par la classe : I_classe =' , I_classe)\n",
    "\n",
    "\n",
    "# Quantité d'information donnée par le port\n",
    "\n",
    "print('Information donnée par le port : I_port =', I_port)\n"
   ]
  },
  {
   "cell_type": "markdown",
   "metadata": {},
   "source": [
    "## Bilan "
   ]
  },
  {
   "cell_type": "code",
   "execution_count": null,
   "metadata": {
    "collapsed": false
   },
   "outputs": [],
   "source": []
  },
  {
   "cell_type": "code",
   "execution_count": null,
   "metadata": {
    "collapsed": true
   },
   "outputs": [],
   "source": []
  }
 ],
 "metadata": {
  "anaconda-cloud": {},
  "kernelspec": {
   "display_name": "Python [conda root]",
   "language": "python",
   "name": "conda-root-py"
  },
  "language_info": {
   "codemirror_mode": {
    "name": "ipython",
    "version": 3
   },
   "file_extension": ".py",
   "mimetype": "text/x-python",
   "name": "python",
   "nbconvert_exporter": "python",
   "pygments_lexer": "ipython3",
   "version": "3.5.2"
  }
 },
 "nbformat": 4,
 "nbformat_minor": 1
}
