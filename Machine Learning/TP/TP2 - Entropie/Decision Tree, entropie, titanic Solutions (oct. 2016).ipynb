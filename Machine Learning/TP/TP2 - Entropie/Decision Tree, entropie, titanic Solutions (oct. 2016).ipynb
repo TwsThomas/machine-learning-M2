{
 "cells": [
  {
   "cell_type": "code",
   "execution_count": 1,
   "metadata": {
    "collapsed": true
   },
   "outputs": [],
   "source": [
    "# d'après le challenge Kaggle : https://www.kaggle.com/c/titanic"
   ]
  },
  {
   "cell_type": "code",
   "execution_count": null,
   "metadata": {
    "collapsed": true
   },
   "outputs": [],
   "source": []
  },
  {
   "cell_type": "markdown",
   "metadata": {},
   "source": [
    "# TP Decision Tree : entropie"
   ]
  },
  {
   "cell_type": "code",
   "execution_count": 2,
   "metadata": {
    "collapsed": false
   },
   "outputs": [],
   "source": [
    "import numpy as np # import la librairie numpy (calcul scientifique)\n",
    "import matplotlib.pyplot as plt # librairie pour afficher les graphs.\n",
    "%matplotlib inline  \n",
    "import pandas as pd #for manipulating data "
   ]
  },
  {
   "cell_type": "code",
   "execution_count": 5,
   "metadata": {
    "collapsed": true
   },
   "outputs": [],
   "source": [
    "# Charge les donnees utile pour le TP\n",
    "def get_titanic_data():\n",
    "    \n",
    "    \n",
    "    np.random.seed(42)\n",
    "    # get titanic & test csv files as a DataFrame\n",
    "    titanic_df = pd.read_csv(\"train_titanic.csv\", dtype={\"Age\": np.float64}, )\n",
    "\n",
    "    # drop unnecessary columns, these columns won't be useful in analysis and prediction\n",
    "    titanic_df = titanic_df.drop(['PassengerId','Name','Ticket',  'SibSp',  'Parch' ,    'Fare','Cabin'], axis=1)\n",
    "\n",
    "\n",
    "    # only in titanic_df, fill the two missing values with the most occurred value, which is \"S\".\n",
    "    titanic_df[\"Embarked\"] = titanic_df[\"Embarked\"].fillna(\"S\")\n",
    "\n",
    "\n",
    "    #AGE\n",
    "    # get average, std, and number of NaN values in titanic_df\n",
    "    average_age_titanic   = titanic_df[\"Age\"].mean()\n",
    "    std_age_titanic       = titanic_df[\"Age\"].std()\n",
    "    count_nan_age_titanic = titanic_df[\"Age\"].isnull().sum()\n",
    "    # generate random numbers between (mean - std) & (mean + std)\n",
    "    rand_1 = np.random.randint(average_age_titanic - std_age_titanic, average_age_titanic + std_age_titanic, size = count_nan_age_titanic)\n",
    "    titanic_df['Age'].dropna().astype(int)\n",
    "    # fill NaN values in Age column with random values generated\n",
    "    #titanic_df[\"Age\"][np.isnan(titanic_df[\"Age\"])] = rand_1    \n",
    "    titanic_df[\"Age\"] = titanic_df[\"Age\"].fillna(30)\n",
    "    # convert from float to int\n",
    "    titanic_df['Age'] = titanic_df['Age'].astype(int)\n",
    "    \n",
    "    y = titanic_df['Survived']\n",
    "    X = titanic_df.drop( [\"Survived\"], axis = 1)\n",
    "    print(\"X data :\\n \")\n",
    "    print(X.head())\n",
    "    print(\"\\n\\n y label : \\n\")\n",
    "    print(y.head())\n",
    "    \n",
    "    return X,y"
   ]
  },
  {
   "cell_type": "code",
   "execution_count": 6,
   "metadata": {
    "collapsed": false
   },
   "outputs": [
    {
     "name": "stdout",
     "output_type": "stream",
     "text": [
      "X data :\n",
      " \n",
      "   Pclass     Sex  Age Embarked\n",
      "0       3    male   22        S\n",
      "1       1  female   38        C\n",
      "2       3  female   26        S\n",
      "3       1  female   35        S\n",
      "4       3    male   35        S\n",
      "\n",
      "\n",
      " y label : \n",
      "\n",
      "0    0\n",
      "1    1\n",
      "2    1\n",
      "3    1\n",
      "4    0\n",
      "Name: Survived, dtype: int64\n"
     ]
    }
   ],
   "source": [
    "X, y = get_titanic_data()\n",
    "X_array, y_array = np.array(X), np.array(y)"
   ]
  },
  {
   "cell_type": "markdown",
   "metadata": {},
   "source": [
    "## Exercices : \n",
    "\n",
    "1. Exploration :\n",
    "\n",
    "\n",
    "    - Afficher, en fonction du genre, la proportion de personnes ayant survécu. (i.e. proba(Survivre | genre = femme) et proba(Survivre | genre = homme)). \n",
    "    - De même avec la classe (la 1er classe étant la plus chère) et le port de départ ##(Ici, 1 = Cherbourg; 2 = Queenstown; 3 = Southampton).\n",
    "    - Quel est le facteur qui semble, a priori, le plus informatif ?\n",
    "\n",
    "2. Analyse :\n",
    "\n",
    "    - Coder la fonction d'entropie. Puis la visualiser sur [0,1].        \n",
    "    - Calculer la quantité d'information $I$ donnée par le genre.\n",
    "    - De même pour la classee et le port d'embarquation.\n",
    "    - Quel est le facteur qui apporte ffectivement le plus d'information ?\n",
    "\n",
    "3. Model et prediction\n",
    "\n",
    "    - Entrainer un arbre de decision sur ces données,\n",
    "    - l'attribut 'feature_importances_' de tree.DecisionTreeClassifier() doone t'il les même résultats ?"
   ]
  },
  {
   "cell_type": "markdown",
   "metadata": {},
   "source": [
    "### proba de survivre en fonction du genre"
   ]
  },
  {
   "cell_type": "code",
   "execution_count": 7,
   "metadata": {
    "collapsed": false
   },
   "outputs": [
    {
     "name": "stdout",
     "output_type": "stream",
     "text": [
      "0.188908145581\n"
     ]
    }
   ],
   "source": [
    "nb_male = np.sum(X.Sex == 'male')\n",
    "nb_male_survived = np.sum((X.Sex == 'male') &(y == 1))\n",
    "perc_male_survived = nb_male_survived / nb_male\n",
    "print(perc_male_survived)"
   ]
  },
  {
   "cell_type": "code",
   "execution_count": 8,
   "metadata": {
    "collapsed": false
   },
   "outputs": [
    {
     "name": "stdout",
     "output_type": "stream",
     "text": [
      "0.742038216561\n"
     ]
    }
   ],
   "source": [
    "nb_female = np.sum(X.Sex == 'female')\n",
    "nb_female_survived = np.sum((X.Sex == 'female') &(y == 1))\n",
    "perc_female_survived = nb_female_survived / nb_female\n",
    "print(perc_female_survived)"
   ]
  },
  {
   "cell_type": "code",
   "execution_count": 9,
   "metadata": {
    "collapsed": false
   },
   "outputs": [
    {
     "name": "stdout",
     "output_type": "stream",
     "text": [
      "Femmes ayant survecut: 0.74 %.\n",
      " Hommes ayant survecut :  0.19 %\n"
     ]
    }
   ],
   "source": [
    "print('Femmes ayant survecut:', np.round(perc_female_survived,2),\\\n",
    "      '%.\\n Hommes ayant survecut : ', np.round(perc_male_survived,2),'%')"
   ]
  },
  {
   "cell_type": "code",
   "execution_count": 10,
   "metadata": {
    "collapsed": false
   },
   "outputs": [
    {
     "data": {
      "text/plain": [
       "<Container object of 2 artists>"
      ]
     },
     "execution_count": 10,
     "metadata": {},
     "output_type": "execute_result"
    },
    {
     "data": {
      "image/png": "[encoded data removed]",
      "text/plain": [
       "<matplotlib.figure.Figure at 0x7f66c1ba0940>"
      ]
     },
     "metadata": {},
     "output_type": "display_data"
    }
   ],
   "source": [
    "plt.bar([0,1], [perc_male_survived, perc_female_survived])"
   ]
  },
  {
   "cell_type": "markdown",
   "metadata": {},
   "source": [
    "## Fonction du port et de la classe du billet "
   ]
  },
  {
   "cell_type": "code",
   "execution_count": 11,
   "metadata": {
    "collapsed": false
   },
   "outputs": [
    {
     "name": "stdout",
     "output_type": "stream",
     "text": [
      "0.62962962963\n",
      "0.472826086957\n",
      "0.242362525458\n"
     ]
    }
   ],
   "source": [
    "nb_class1 = np.sum(X.Pclass == 1)\n",
    "nb_class1_survived = np.sum((X.Pclass == 1) &(y == 1))\n",
    "perc_class1_survived = nb_class1_survived / nb_class1\n",
    "print(perc_class1_survived)\n",
    "\n",
    "nb_class2 = np.sum(X.Pclass == 2)\n",
    "nb_class2_survived = np.sum((X.Pclass == 2) &(y == 1))\n",
    "perc_class2_survived = nb_class2_survived / nb_class2\n",
    "print(perc_class2_survived)\n",
    "\n",
    "nb_class3 = np.sum(X.Pclass == 3)\n",
    "nb_class3_survived = np.sum((X.Pclass == 3) &(y == 1))\n",
    "perc_class3_survived = nb_class3_survived / nb_class3\n",
    "print(perc_class3_survived)"
   ]
  },
  {
   "cell_type": "code",
   "execution_count": 12,
   "metadata": {
    "collapsed": false
   },
   "outputs": [
    {
     "name": "stdout",
     "output_type": "stream",
     "text": [
      "0.38961038961\n",
      "0.339009287926\n",
      "0.553571428571\n"
     ]
    }
   ],
   "source": [
    "nb_EmbarkedQ = np.sum(X.Embarked == 'Q')\n",
    "nb_EmbarkedQ_survived = np.sum((X.Embarked == 'Q') &(y == 1))\n",
    "perc_EmbarkedQ_survived = nb_EmbarkedQ_survived / nb_EmbarkedQ\n",
    "print(perc_EmbarkedQ_survived)\n",
    "\n",
    "nb_EmbarkedS = np.sum(X.Embarked == 'S')\n",
    "nb_EmbarkedS_survived = np.sum((X.Embarked == 'S') &(y == 1))\n",
    "perc_EmbarkedS_survived = nb_EmbarkedS_survived / nb_EmbarkedS\n",
    "print(perc_EmbarkedS_survived)\n",
    "\n",
    "nb_EmbarkedC = np.sum(X.Embarked == 'C')\n",
    "nb_EmbarkedC_survived = np.sum((X.Embarked == 'C') &(y == 1))\n",
    "perc_EmbarkedC_survived = nb_EmbarkedC_survived / nb_EmbarkedC\n",
    "print(perc_EmbarkedC_survived)"
   ]
  },
  {
   "cell_type": "markdown",
   "metadata": {
    "collapsed": true
   },
   "source": [
    "## Entropy "
   ]
  },
  {
   "cell_type": "code",
   "execution_count": 13,
   "metadata": {
    "collapsed": false
   },
   "outputs": [
    {
     "name": "stdout",
     "output_type": "stream",
     "text": [
      "I = -p * log(p) - (1-p) * log(1- p) \n",
      " avec p = Proba(survivre | genre = femme) \n",
      "(Rappel : un faible I est plus informatif qu'un I élevé.)\n"
     ]
    },
    {
     "data": {
      "text/plain": [
       "<matplotlib.text.Text at 0x7f66bf164f28>"
      ]
     },
     "execution_count": 13,
     "metadata": {},
     "output_type": "execute_result"
    },
    {
     "data": {
      "image/png": "[encoded data removed]",
      "text/plain": [
       "<matplotlib.figure.Figure at 0x7f66c1b80710>"
      ]
     },
     "metadata": {},
     "output_type": "display_data"
    }
   ],
   "source": [
    "print(\"I = -p * log(p) - (1-p) * log(1- p) \\n \\\n",
    "avec p = Proba(survivre | genre = femme) \\n\\\n",
    "(Rappel : un faible I est plus informatif qu'un I élevé.)\")\n",
    "\n",
    "def entropy(p):\n",
    "    if p == 0 or p ==1 :\n",
    "        return 0\n",
    "    else:\n",
    "        return - p*np.log(p) - (1-p)*np.log(1-p)\n",
    "    \n",
    "list_p = np.arange(0.01,.99,0.05)\n",
    "plt.plot(list_p, [entropy(p) for p in list_p])\n",
    "\n",
    "plt.title('fonction entropy')\n",
    "plt.xlabel('p')\n",
    "plt.ylabel('incertitude')"
   ]
  },
  {
   "cell_type": "markdown",
   "metadata": {},
   "source": [
    "## Information I"
   ]
  },
  {
   "cell_type": "code",
   "execution_count": 14,
   "metadata": {
    "collapsed": false
   },
   "outputs": [
    {
     "name": "stdout",
     "output_type": "stream",
     "text": [
      "I_femme = 0.570914192248\n"
     ]
    }
   ],
   "source": [
    "I_femme = entropy(perc_female_survived)\n",
    "print('I_femme =', I_femme)"
   ]
  },
  {
   "cell_type": "code",
   "execution_count": 15,
   "metadata": {
    "collapsed": false
   },
   "outputs": [
    {
     "name": "stdout",
     "output_type": "stream",
     "text": [
      "I_genre = proba(femme) * I(genre=femme) + proba(homme) * I(genre=homme)\n",
      "Information donnée par le genre : I_genre = 0.515041484275\n",
      "Information donnée par la classe : I_classe = 0.607804720836\n",
      "Information donnée par le port : I_port = 0.65167872377\n"
     ]
    }
   ],
   "source": [
    "\n",
    "\n",
    "# Quantité d'information donnée par le genre.\n",
    "\n",
    "print(\"I_genre = proba(femme) * I(genre=femme) + proba(homme) * I(genre=homme)\")\n",
    "\n",
    "genre = X.Sex == 'male'\n",
    "proba_homme = np.sum(genre) / len(genre)\n",
    "proba_femme = (len(genre) - np.sum(genre)) / len(genre)\n",
    "\n",
    "I_genre = proba_homme * entropy(perc_male_survived) + proba_femme * entropy(perc_female_survived)\n",
    "print('Information donnée par le genre : I_genre =', I_genre)\n",
    "\n",
    "\n",
    "# Quantité d'information donnée par la classe du billet.\n",
    "\n",
    "classe = X.Pclass\n",
    "proba_classe1 = list(classe==1).count(True) / len(classe)\n",
    "proba_classe2 = list(classe==2).count(True) / len(classe)\n",
    "proba_classe3 = list(classe==3).count(True) / len(classe)\n",
    "\n",
    "\n",
    "I_classe = proba_classe1 * entropy(perc_class1_survived) + \\\n",
    "            proba_classe2 * entropy(perc_class2_survived) + \\\n",
    "            proba_classe3 * entropy(perc_class3_survived)\n",
    "\n",
    "print('Information donnée par la classe : I_classe =' , I_classe)\n",
    "\n",
    "\n",
    "# Quantité d'information donnée par le port\n",
    "port = X.Embarked\n",
    "proba_portQ = list(port=='Q').count(True) / len(port)\n",
    "proba_portC = list(port=='C').count(True) / len(port)\n",
    "proba_portS = list(port=='S').count(True) / len(port)\n",
    "\n",
    "I_port = proba_portQ * entropy(perc_EmbarkedQ_survived) + \\\n",
    "            proba_portC * entropy(perc_EmbarkedC_survived) + \\\n",
    "            proba_portS * entropy(perc_EmbarkedS_survived)\n",
    "\n",
    "print('Information donnée par le port : I_port =', I_port)\n"
   ]
  },
  {
   "cell_type": "markdown",
   "metadata": {},
   "source": [
    "## Bilan "
   ]
  },
  {
   "cell_type": "code",
   "execution_count": 16,
   "metadata": {
    "collapsed": false
   },
   "outputs": [
    {
     "name": "stdout",
     "output_type": "stream",
     "text": [
      "Bilan : \n",
      " Le genre a une quantite d'information plus faible, il est donc le facteur le plus discriminant\n"
     ]
    },
    {
     "ename": "AttributeError",
     "evalue": "'numpy.ndarray' object has no attribute 'toint'",
     "output_type": "error",
     "traceback": [
      "\u001b[1;31m---------------------------------------------------------------------------\u001b[0m",
      "\u001b[1;31mAttributeError\u001b[0m                            Traceback (most recent call last)",
      "\u001b[1;32m<ipython-input-16-d714c4efcec0>\u001b[0m in \u001b[0;36m<module>\u001b[1;34m()\u001b[0m\n\u001b[0;32m      4\u001b[0m \u001b[1;33m\u001b[0m\u001b[0m\n\u001b[0;32m      5\u001b[0m \u001b[0mDT\u001b[0m \u001b[1;33m=\u001b[0m \u001b[0mtree\u001b[0m\u001b[1;33m.\u001b[0m\u001b[0mDecisionTreeClassifier\u001b[0m\u001b[1;33m(\u001b[0m\u001b[1;33m)\u001b[0m\u001b[1;33m\u001b[0m\u001b[0m\n\u001b[1;32m----> 6\u001b[1;33m \u001b[0mX_array\u001b[0m \u001b[1;33m=\u001b[0m \u001b[0mX_array\u001b[0m\u001b[1;33m.\u001b[0m\u001b[0mtoint\u001b[0m\u001b[1;33m(\u001b[0m\u001b[1;33m)\u001b[0m \u001b[1;31m#todo !\u001b[0m\u001b[1;33m\u001b[0m\u001b[0m\n\u001b[0m\u001b[0;32m      7\u001b[0m \u001b[0mDT\u001b[0m\u001b[1;33m.\u001b[0m\u001b[0mfit\u001b[0m\u001b[1;33m(\u001b[0m\u001b[0mX_array\u001b[0m\u001b[1;33m,\u001b[0m\u001b[0my\u001b[0m\u001b[1;33m)\u001b[0m\u001b[1;33m\u001b[0m\u001b[0m\n\u001b[0;32m      8\u001b[0m \u001b[0mprint\u001b[0m\u001b[1;33m(\u001b[0m\u001b[1;34m'type - importance (higher is better)'\u001b[0m\u001b[1;33m)\u001b[0m\u001b[1;33m\u001b[0m\u001b[0m\n",
      "\u001b[1;31mAttributeError\u001b[0m: 'numpy.ndarray' object has no attribute 'toint'"
     ]
    }
   ],
   "source": [
    "from sklearn import tree\n",
    "\n",
    "print(\"Bilan : \\n Le genre a une quantite d'information plus faible, il est donc le facteur le plus discriminant\")\n",
    "\n",
    "DT = tree.DecisionTreeClassifier()\n",
    "X_array = X_array.toint() #todo !\n",
    "DT.fit(X_array,y)\n",
    "print('type - importance (higher is better)')\n",
    "print('')\n",
    "for type,imp in zip(['Class', 'Age', 'N_fs', 'N_pe', 'tarif', 'port', 'genre'],DT.feature_importances_):\n",
    "    print(type,'-',imp)\n",
    "    \n",
    "print(\"\\n On retrouve que le genre est un des facteurs les plus discriminant (avec l'age et le tarif des billets).\\\n",
    "\\n Ici le port d'embarquement ne donnes presque aucune information.\")\n"
   ]
  },
  {
   "cell_type": "code",
   "execution_count": null,
   "metadata": {
    "collapsed": true
   },
   "outputs": [],
   "source": []
  }
 ],
 "metadata": {
  "anaconda-cloud": {},
  "kernelspec": {
   "display_name": "Python 3",
   "language": "python",
   "name": "python3"
  },
  "language_info": {
   "codemirror_mode": {
    "name": "ipython",
    "version": 3
   },
   "file_extension": ".py",
   "mimetype": "text/x-python",
   "name": "python",
   "nbconvert_exporter": "python",
   "pygments_lexer": "ipython3",
   "version": "3.5.1"
  }
 },
 "nbformat": 4,
 "nbformat_minor": 1
}
