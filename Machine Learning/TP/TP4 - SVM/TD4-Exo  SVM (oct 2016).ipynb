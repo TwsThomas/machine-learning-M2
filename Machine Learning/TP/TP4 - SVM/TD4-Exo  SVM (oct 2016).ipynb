{
 "cells": [
  {
   "cell_type": "markdown",
   "metadata": {},
   "source": [
    "# TP : SVM"
   ]
  },
  {
   "cell_type": "markdown",
   "metadata": {},
   "source": [
    "## 1 - Cas linéaire"
   ]
  },
  {
   "cell_type": "markdown",
   "metadata": {},
   "source": [
    "Dans cette première partie, nous nous intéressons à une SVM linéaire. Cette première version de SVM fournit un classifieur linéaire $h(x)$ paramétré par $w$ et $b$ séparant l'espace par l'hyperplan d'équation $w \\cdot x + b = 0$\n",
    "\n",
    "\n",
    "Formellement, on pose $(\\mathbf{x_i},y_i)_{i=1}^n$ un ensemble de $n$ points\n",
    "d'entraînement, avec $\\mathbf{x_i} \\in \\mathbb{R}^d$ et $y_i \\in \\lbrace -1, 1\n",
    "\\rbrace.$\\\\\n",
    "On résoud ensuite :\n",
    "\\begin{array}{ll}\n",
    "\\mbox{minimiser } &\\frac{1}{2}~||\\mathbf{w}||^2 + C \\sum_{i=1}^n \\zeta_i \\\\\n",
    "\\mbox{sous contraintes } &\n",
    "\\forall i, y_i(<\\mathbf{w},\\mathbf{x_i}> + b) \\geq 1 - \\zeta_i  \\\\\n",
    " & \\forall i, \\zeta_i  \\geq 0\\\\\n",
    "\\end{array}\n",
    "\n",
    "\n",
    "On obtient alors une suite de coefficients $(\\alpha_i)_{i=1}^n, \\alpha_i \\geq 0$ et \n",
    "\n",
    "\n",
    "$\\mathbf{w}=\\sum_{i=1}^n \\alpha_i y_i \\mathbf{x_i}$\n",
    "\n",
    "$h(\\mathbf{x}) =  <\\mathbf{w},\\mathbf{x}> + b.$\n",
    "\n",
    "\n",
    "Les vecteurs $\\mathbf{x_i}$ tels que $\\alpha_i > 0$ sont appelés\n",
    " $ \\textbf{vecteurs supports}.$\n",
    "\n"
   ]
  },
  {
   "cell_type": "code",
   "execution_count": 2,
   "metadata": {
    "collapsed": true
   },
   "outputs": [],
   "source": [
    "import numpy as np\n",
    "import matplotlib.pyplot as plt\n",
    "%matplotlib inline"
   ]
  },
  {
   "cell_type": "markdown",
   "metadata": {},
   "source": [
    "# Questions :\n",
    "\n",
    "\n",
    "    \n",
    "a) Générer un ensemble d’entraînement linéairement séparable. Composé de 50 exemples, avec 2 features. (On peut prendre par exemple des label positif pour x1 > 0.)\n",
    "    - afficher cette ensemble d'entrainement avec les labels en couleurs.\n",
    "    - entrainer un SVM linéaire (from sklearn.svm import LinearSVC)     \n",
    "    - afficher l'ensemble de décision avec la fonction plot_boundary\n",
    "    \n",
    "b) Sur cette ensemble, rajouter du bruit aux $y$. (i.e. avec probabilité $p$, $y_i = 1-y_i$)\n",
    "    - Afficher l'ensemble, entrainer un SVM linéaire et faire varier le paramètre C.\n",
    " \n",
    "c) Cas du XOR : \n",
    "    - générer l'ensemble d'entrainement suivant :  \n",
    "        X = ( 0,0       y =  (1\n",
    "              1,0             0\n",
    "              0,1             0\n",
    "              1,1)            1)\n",
    "              \n",
    "    - afficher cette ensemble d'entrainement avec les labels en couleurs.\n",
    "    - entrainer un SVM linéaire (from sklearn.svm import LinearSVC)     \n",
    "    - afficher l'ensemble de décision avec la fonction plot_boundary\n",
    "    "
   ]
  },
  {
   "cell_type": "code",
   "execution_count": 3,
   "metadata": {
    "collapsed": true
   },
   "outputs": [],
   "source": [
    "from sklearn.svm import LinearSVC\n",
    "#http://scikit-learn.org/stable/modules/generated/sklearn.svm.LinearSVC.html"
   ]
  },
  {
   "cell_type": "code",
   "execution_count": 4,
   "metadata": {
    "collapsed": true
   },
   "outputs": [],
   "source": [
    "def plot_boundary(clf, X, y):\n",
    "    h = 0.002\n",
    "    x_min, x_max = X[:, 0].min() - .1, X[:, 0].max() + .1\n",
    "    y_min, y_max = X[:, 1].min() - .1, X[:, 1].max() + .1\n",
    "    xx, yy = np.meshgrid(np.arange(x_min, x_max, h),\n",
    "                         np.arange(y_min, y_max, h))\n",
    "\n",
    "    Z = clf.predict(np.c_[xx.ravel(), yy.ravel()])\n",
    "    Z = Z.reshape(xx.shape)\n",
    "    \n",
    "    plt.figure()\n",
    "    plt.contourf(xx, yy, Z, cmap=plt.cm.Paired, alpha=0.8)\n",
    "\n",
    "    plt.scatter(X[:, 0], X[:, 1], c=y, s = 100)\n",
    "    plt.title('score : ' + str(clf.score(X,y)))\n",
    "    plt.xlabel('$x_1$')\n",
    "    plt.ylabel('$x_2$')\n",
    "    "
   ]
  },
  {
   "cell_type": "code",
   "execution_count": 1,
   "metadata": {
    "collapsed": false
   },
   "outputs": [
    {
     "ename": "SyntaxError",
     "evalue": "invalid syntax (<ipython-input-1-87bbd2273d80>, line 2)",
     "output_type": "error",
     "traceback": [
      "\u001b[0;36m  File \u001b[0;32m\"<ipython-input-1-87bbd2273d80>\"\u001b[0;36m, line \u001b[0;32m2\u001b[0m\n\u001b[0;31m    X =\u001b[0m\n\u001b[0m        ^\u001b[0m\n\u001b[0;31mSyntaxError\u001b[0m\u001b[0;31m:\u001b[0m invalid syntax\n"
     ]
    }
   ],
   "source": [
    "\n",
    "X = \n",
    "y = \n",
    "plt.scatter(X[:,0],X[:,1], c = y, s = 100)"
   ]
  },
  {
   "cell_type": "code",
   "execution_count": null,
   "metadata": {
    "collapsed": true
   },
   "outputs": [],
   "source": []
  },
  {
   "cell_type": "code",
   "execution_count": null,
   "metadata": {
    "collapsed": true
   },
   "outputs": [],
   "source": []
  },
  {
   "cell_type": "markdown",
   "metadata": {},
   "source": [
    "### Xor"
   ]
  },
  {
   "cell_type": "code",
   "execution_count": null,
   "metadata": {
    "collapsed": true
   },
   "outputs": [],
   "source": []
  },
  {
   "cell_type": "code",
   "execution_count": null,
   "metadata": {
    "collapsed": true
   },
   "outputs": [],
   "source": []
  },
  {
   "cell_type": "markdown",
   "metadata": {},
   "source": [
    "# 2- Cas non linéaire : "
   ]
  },
  {
   "cell_type": "markdown",
   "metadata": {},
   "source": [
    "\"L'astuce du noyau\" est une méthode permettant d'étendre l'espace\n",
    "$\\mathcal{H}$ d'hypothèses. L'idée est de plonger les données d'entraînements\n",
    "via une fonction $\\phi$ dans un espace de grande dimension $(feature\\ \n",
    "space$). \n",
    "\n",
    "La fonction de décision $h$ de prédiction s'écrit maintenant :\n",
    "\n",
    "$$ h(\\mathbf{x}) =  \\sum_{i=1}^n \\alpha_i y_i \\phi(x_i) \\cdot \\phi(x) + b = \\sum_{i=1}^n \\alpha_i y_i K(\\mathbf{x_i},\\mathbf{x}) + b. $$\n"
   ]
  },
  {
   "cell_type": "markdown",
   "metadata": {},
   "source": [
    "#### Kernels : \n",
    "\n",
    "The kernel function can be any of the following:\n",
    "\n",
    "- linear: $\\langle x, x'\\rangle.$\n",
    "\n",
    "- poly (i.e. polynomial): $(\\gamma \\langle x, x'\\rangle + r)^d.$   d is specified by keyword degree, r by $coef0$.\n",
    "\n",
    "- rbf: $\\exp(-\\gamma |x-x'|^2).$   $\\gamma$ is specified by keyword $gamma$, must be greater than 0.\n",
    "\n",
    "- sigmoid : $(\\tanh(\\gamma \\langle x,x'\\rangle + r))$,  where r is specified by $coef0.$\n",
    "               "
   ]
  },
  {
   "cell_type": "code",
   "execution_count": 65,
   "metadata": {
    "collapsed": true
   },
   "outputs": [],
   "source": [
    "from sklearn.svm import SVC\n",
    "#http://scikit-learn.org/stable/modules/generated/sklearn.svm.SVC.html"
   ]
  },
  {
   "cell_type": "markdown",
   "metadata": {
    "collapsed": true
   },
   "source": [
    "# Questions : \n",
    "a) Générer des données d'entrainement non linéairement séparable puis les afficher avec les couleurs. On peut utiliser : \n",
    "- from sklearn.datasets import make_moons \n",
    "- X, y = make_moons(noise = 0.1)\n",
    "\n",
    "b) avec la même méthode, générer des données de test.\n",
    "\n",
    "c) Entraîner un SVM avec les différents noyaux possibles. Et avec différentes valeurs de $C$.\n",
    "\n",
    "d) On peut afficher les vecteurs servant du spport avec l'attribut $support\\_vectors\\_$"
   ]
  },
  {
   "cell_type": "code",
   "execution_count": 66,
   "metadata": {
    "collapsed": false
   },
   "outputs": [
    {
     "name": "stderr",
     "output_type": "stream",
     "text": [
      "/home/thomas/anaconda3/lib/python3.4/site-packages/sklearn/datasets/samples_generator.py:612: DeprecationWarning: using a non-integer number instead of an integer will result in an error in the future\n",
      "  y = np.hstack([np.zeros(n_samples_in, dtype=np.intp),\n"
     ]
    },
    {
     "data": {
      "text/plain": [
       "<matplotlib.collections.PathCollection at 0x7fd7a49acac8>"
      ]
     },
     "execution_count": 66,
     "metadata": {},
     "output_type": "execute_result"
    },
    {
     "data": {
      "image/png": "[encoded data removed]",
      "text/plain": [
       "<matplotlib.figure.Figure at 0x7fd7a633d080>"
      ]
     },
     "metadata": {},
     "output_type": "display_data"
    }
   ],
   "source": [
    "from sklearn.datasets import make_moons\n",
    "X, y = make_moons(noise = 0.1, random_state=1, n_samples=40)\n",
    "plt.scatter(X[:,0],X[:,1], c = y, s = 100)"
   ]
  },
  {
   "cell_type": "code",
   "execution_count": 67,
   "metadata": {
    "collapsed": false
   },
   "outputs": [
    {
     "name": "stderr",
     "output_type": "stream",
     "text": [
      "/home/thomas/anaconda3/lib/python3.4/site-packages/sklearn/datasets/samples_generator.py:612: DeprecationWarning: using a non-integer number instead of an integer will result in an error in the future\n",
      "  y = np.hstack([np.zeros(n_samples_in, dtype=np.intp),\n"
     ]
    },
    {
     "data": {
      "text/plain": [
       "<matplotlib.collections.PathCollection at 0x7fd7a609bb00>"
      ]
     },
     "execution_count": 67,
     "metadata": {},
     "output_type": "execute_result"
    },
    {
     "data": {
      "image/png": "[encoded data removed]",
      "text/plain": [
       "<matplotlib.figure.Figure at 0x7fd7a4ac1f28>"
      ]
     },
     "metadata": {},
     "output_type": "display_data"
    }
   ],
   "source": [
    "X_test, y_test = make_moons(noise = 0.1, random_state=321)\n",
    "plt.scatter(X_test[:,0],X_test[:,1], c = y_test, s = 100)"
   ]
  },
  {
   "cell_type": "code",
   "execution_count": null,
   "metadata": {
    "collapsed": true
   },
   "outputs": [],
   "source": []
  },
  {
   "cell_type": "code",
   "execution_count": null,
   "metadata": {
    "collapsed": true
   },
   "outputs": [],
   "source": []
  },
  {
   "cell_type": "code",
   "execution_count": null,
   "metadata": {
    "collapsed": true
   },
   "outputs": [],
   "source": []
  },
  {
   "cell_type": "code",
   "execution_count": null,
   "metadata": {
    "collapsed": true
   },
   "outputs": [],
   "source": []
  },
  {
   "cell_type": "code",
   "execution_count": null,
   "metadata": {
    "collapsed": true
   },
   "outputs": [],
   "source": []
  },
  {
   "cell_type": "code",
   "execution_count": 41,
   "metadata": {
    "collapsed": false,
    "scrolled": true
   },
   "outputs": [
    {
     "data": {
      "image/png": "[encoded data removed]",
      "text/plain": [
       "<matplotlib.figure.Figure at 0x7fd7a61d2278>"
      ]
     },
     "metadata": {},
     "output_type": "display_data"
    },
    {
     "data": {
      "image/png": "[encoded data removed]",
      "text/plain": [
       "<matplotlib.figure.Figure at 0x7fd7a514f550>"
      ]
     },
     "metadata": {},
     "output_type": "display_data"
    },
    {
     "data": {
      "image/png": "[encoded data removed]",
      "text/plain": [
       "<matplotlib.figure.Figure at 0x7fd7a623fe80>"
      ]
     },
     "metadata": {},
     "output_type": "display_data"
    }
   ],
   "source": []
  },
  {
   "cell_type": "code",
   "execution_count": 46,
   "metadata": {
    "collapsed": false
   },
   "outputs": [
    {
     "name": "stdout",
     "output_type": "stream",
     "text": [
      "X_train :899 exemples, avec 8*8 = 64 features.\n"
     ]
    }
   ],
   "source": []
  },
  {
   "cell_type": "markdown",
   "metadata": {},
   "source": [
    "# Exercices Bonus : \n",
    "    \n",
    "    - Entrainer un arbre de décision pour classer les données des chiffres manuscrits. \n",
    "    - Entrainer un SVM meilleur que cette arbre de décision"
   ]
  },
  {
   "cell_type": "code",
   "execution_count": null,
   "metadata": {
    "collapsed": true
   },
   "outputs": [],
   "source": [
    "# Charger des données de chiffre manuscrit (1800 images de 8x8)\n",
    "\n",
    "from sklearn import datasets\n",
    "\n",
    "digits = datasets.load_digits()\n",
    "images = digits.images\n",
    "n_samples = len(digits.images)\n",
    "\n",
    "X = images.reshape((n_samples, -1))\n",
    "y = digits.target\n",
    "\n",
    "for image in images[np.random.choice(range(n_samples),3)]:\n",
    "    plt.figure()\n",
    "    plt.imshow(image, cmap=plt.cm.gray_r, interpolation='nearest')\n",
    "    \n",
    "    \n",
    "X_train = X[n_samples / 2:]\n",
    "y_train = y[n_samples / 2:]\n",
    "\n",
    "X_valid = X[:n_samples / 2]\n",
    "y_valid = y[:n_samples / 2]\n",
    "\n",
    "print(\"X_train : {} exemples, avec 8*8 = {} features.\".format(X_train.shape[0], X_train.shape[1]))"
   ]
  },
  {
   "cell_type": "code",
   "execution_count": null,
   "metadata": {
    "collapsed": true
   },
   "outputs": [],
   "source": []
  }
 ],
 "metadata": {
  "kernelspec": {
   "display_name": "Python [default]",
   "language": "python",
   "name": "python3"
  },
  "language_info": {
   "codemirror_mode": {
    "name": "ipython",
    "version": 3
   },
   "file_extension": ".py",
   "mimetype": "text/x-python",
   "name": "python",
   "nbconvert_exporter": "python",
   "pygments_lexer": "ipython3",
   "version": "3.5.2"
  }
 },
 "nbformat": 4,
 "nbformat_minor": 0
}
